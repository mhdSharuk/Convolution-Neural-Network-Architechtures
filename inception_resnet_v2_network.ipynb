{
  "nbformat": 4,
  "nbformat_minor": 0,
  "metadata": {
    "colab": {
      "name": "inception_resnet_v2_network",
      "provenance": [],
      "collapsed_sections": []
    },
    "kernelspec": {
      "name": "python3",
      "display_name": "Python 3"
    }
  },
  "cells": [
    {
      "cell_type": "markdown",
      "metadata": {
        "id": "Z3MRzrwXqJJP",
        "colab_type": "text"
      },
      "source": [
        "![alt text](https://1.bp.blogspot.com/-O7AznVGY9js/V8cV_wKKsMI/AAAAAAAABKQ/maO7n2w3dT4Pkcmk7wgGqiSX5FUW2sfZgCLcB/s1600/image00.png\n",
        ")"
      ]
    },
    {
      "cell_type": "code",
      "metadata": {
        "id": "Rvk5KHRW7Z5D",
        "colab_type": "code",
        "colab": {}
      },
      "source": [
        "def inception_resnet_v2_network(input_shape):\n",
        "  conv = Conv2D()\n",
        "  maxpool = Maxpooling2D()\n",
        "  avgp = avg_pool()\n",
        "  \n",
        "  \n",
        "  model  = Input(input_shape)\n",
        "  \n",
        "  #First Section\n",
        "  c1 = conv(16, (3,3), activation='relu', padding='same')(model)\n",
        "  c2 = conv(32, (3,3), activation='relu', padding='same')(c1)\n",
        "  c3 = conv(64, (3,3), activation='relu', padding='same')(c2)\n",
        "  m1 = maxpool((2,2))(c3)\n",
        "  c4 = conv(64, (3,3), activation='relu', padding='same')(m1)\n",
        "  c5 = conv(64, (3,3), activation='relu', padding='same')(c4)\n",
        "  \n",
        "  #First Split\n",
        "  #Spliting the images into 4 layers\n",
        "  #1.Layer\n",
        "  c1_1_1 = conv(64, (3,3), activation='relu', padding='same')(c5)\n",
        "  \n",
        "  #2.Layer\n",
        "  c1_2_1 = conv(64, (3,3), activation='relu', padding='same')(c5)\n",
        "  c1_2_2 = conv(64, (3,3), activation='relu', padding='same')(c_1_2_1)\n",
        "  \n",
        "  #3.Layer\n",
        "  c1_3_1 = conv(64, (3,3), activation='relu', padding='same')(c5)\n",
        "  c1_3_2 = conv(64, (3,3), activation='relu', padding='same')(c_1_3_1)\n",
        "  c1_3_3 = conv(64, (3,3), activation='relu', padding='same') (c_1_3_2)\n",
        "  \n",
        "  #4.Layer\n",
        "  avg1_1 = avgp(input_shape,64,(3,3))(c5)\n",
        "  c1_4_1 = conv(64, (3,3), activation='relu', padding='same')(avg_1_1)\n",
        "  \n",
        "  concat_1 = concatenate([c1_1_1, c1_2_2, c1_3_3, c1_4_1])\n",
        "  \n",
        "  #Second Split\n",
        "  #Spliting the images into 3 layers\n",
        "  #1.Layer\n",
        "  c2_1_1\n",
        "  "
      ],
      "execution_count": 0,
      "outputs": []
    },
    {
      "cell_type": "code",
      "metadata": {
        "id": "q3P51mMPsI7O",
        "colab_type": "code",
        "colab": {}
      },
      "source": [
        "for i in range(10):\n",
        "  print('')"
      ],
      "execution_count": 0,
      "outputs": []
    }
  ]
}