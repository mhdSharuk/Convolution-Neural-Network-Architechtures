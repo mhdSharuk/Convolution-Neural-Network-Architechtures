{
  "nbformat": 4,
  "nbformat_minor": 0,
  "metadata": {
    "colab": {
      "name": "GoogleNet(Inception_Net_V1)",
      "provenance": []
    },
    "kernelspec": {
      "name": "python3",
      "display_name": "Python 3"
    }
  },
  "cells": [
    {
      "cell_type": "markdown",
      "metadata": {
        "id": "r68FKMM7-eE9",
        "colab_type": "text"
      },
      "source": [
        "**The Inception V1 Architechture**\n",
        "![alt text](https://miro.medium.com/max/5176/1*ZFPOSAted10TPd3hBQU8iQ.png)"
      ]
    },
    {
      "cell_type": "markdown",
      "metadata": {
        "id": "PwApNms6AWkQ",
        "colab_type": "text"
      },
      "source": [
        "**Importing the modules**"
      ]
    },
    {
      "cell_type": "code",
      "metadata": {
        "id": "mhOk9aKi-YuP",
        "colab_type": "code",
        "colab": {}
      },
      "source": [
        "import tensorflow as tf \n",
        "from tensorflow.keras import Model,Input\n",
        "from tensorflow.keras.layers import Conv2D,MaxPooling2D,Flatten\n",
        "from tensorflow.keras.layers import Dense,concatenate,Activation"
      ],
      "execution_count": 0,
      "outputs": []
    },
    {
      "cell_type": "markdown",
      "metadata": {
        "id": "aN4tRymaAaRE",
        "colab_type": "text"
      },
      "source": [
        "**The code for Inception network**\n",
        "(Just one block for now)"
      ]
    },
    {
      "cell_type": "code",
      "metadata": {
        "id": "wIbFmreuAfUC",
        "colab_type": "code",
        "colab": {}
      },
      "source": [
        "def inception_network_v1(input_shape, num_classes):\n",
        "\n",
        "\t\"\"\"Arguments:\n",
        "\t\tinput_shape : The number of rows,number of columns,number of color channels in the image\n",
        "    The ordering of the dimensions in the inputs,\"Channel Last\"\n",
        "\t\tExample : (512,512,3) => This represents 512x512 pixel image with 3 color channels\n",
        "\t\tnum_classes : The number of classes we want to predict\n",
        "\t   Output:\n",
        "\t   \tReturn the Inception model with the given constraints\n",
        "\t\"\"\"\n",
        "\n",
        "  final_activation = 'softmax'\n",
        "  \n",
        "  if num_classes == 1:\n",
        "    final_activation = 'sigmoid'\n",
        "  else:\n",
        "    final_activation = 'softmax'\n",
        "  \n",
        "\tinput_ = Input(input_shape)\n",
        "\n",
        "\t#==============================================================================================================================\n",
        "\t#Strating of First BLock\n",
        "\ttower1_1 = Conv2D(filters = 64, kernel_size = (1,1), padding = 'same', activation = 'relu')(input_)\n",
        "\n",
        "\ttower2_1 = Conv2D(filters = 64, kernel_size = (1,1), padding = 'same', activation = 'relu')(input_)\n",
        "\ttower2_2 = Conv2D(filters = 64, kernel_size = (3,3), padding = 'same', activation = 'relu')(tower2_1)\n",
        "\n",
        "\ttower3_1 = Conv2D(filters = 64, kernel_size = (1,1), padding = 'same', activation = 'relu')(input_)\n",
        "\ttower3_2 = Conv2D(filters = 64, kernel_size = (5,5), padding = 'same', activation = 'relu')(tower3_1)\n",
        "\n",
        "\ttower4_1 = MaxPooling2D(pool_size = (3,3), strides = (1,1), padding = 'same')(input_)\n",
        "\ttower4_2 = Conv2D(filters = 64, kernel_size = (1,1), padding = 'same', activation = 'relu')(tower4_1)\n",
        "\n",
        "\tconcat_1 = concatenate([tower1_1,tower2_1,tower3_1,tower4_1], axis = 3)\n",
        "\t#First BLock Finished\n",
        "\n",
        "\t#===============================================================================================================================\n",
        "\t#Same for Every end of the block with flatten function refering to the last concatenation layer\n",
        "\tend_block = Conv2D(filters = 8, kernel_size = (3,3))(concat_1)\n",
        "\tend_block = Activation('relu')(end_block)\n",
        "\tend_block = MaxPooling2D(pool_size = (2,2), strides = (1,1))(end_block)\n",
        "\tend_block = Flatten()(end_block)\n",
        "\tend_block = Dense(num_classes)(end_block)\n",
        "\t\n",
        "\toutput = Activation(final_activation)(end_block)\n",
        "\n",
        "\tmodel = Model([input_], output)\n",
        "\n",
        "\treturn model"
      ],
      "execution_count": 0,
      "outputs": []
    },
    {
      "cell_type": "code",
      "metadata": {
        "id": "H8Rco9Zvr066",
        "colab_type": "code",
        "outputId": "c73d2f27-e76a-44eb-cd41-358e55af01e5",
        "colab": {
          "base_uri": "https://localhost:8080/",
          "height": 602
        }
      },
      "source": [
        "model = inception_network_v1((512,512,3),10)\n",
        "model.summary()"
      ],
      "execution_count": 0,
      "outputs": [
        {
          "output_type": "stream",
          "text": [
            "Model: \"model_1\"\n",
            "__________________________________________________________________________________________________\n",
            "Layer (type)                    Output Shape         Param #     Connected to                     \n",
            "==================================================================================================\n",
            "input_3 (InputLayer)            [(None, 512, 512, 3) 0                                            \n",
            "__________________________________________________________________________________________________\n",
            "conv2d_12 (Conv2D)              (None, 512, 512, 64) 256         input_3[0][0]                    \n",
            "__________________________________________________________________________________________________\n",
            "conv2d_13 (Conv2D)              (None, 512, 512, 64) 256         input_3[0][0]                    \n",
            "__________________________________________________________________________________________________\n",
            "conv2d_15 (Conv2D)              (None, 512, 512, 64) 256         input_3[0][0]                    \n",
            "__________________________________________________________________________________________________\n",
            "max_pooling2d_2 (MaxPooling2D)  (None, 512, 512, 3)  0           input_3[0][0]                    \n",
            "__________________________________________________________________________________________________\n",
            "concatenate_1 (Concatenate)     (None, 512, 512, 195 0           conv2d_12[0][0]                  \n",
            "                                                                 conv2d_13[0][0]                  \n",
            "                                                                 conv2d_15[0][0]                  \n",
            "                                                                 max_pooling2d_2[0][0]            \n",
            "__________________________________________________________________________________________________\n",
            "conv2d_18 (Conv2D)              (None, 510, 510, 8)  14048       concatenate_1[0][0]              \n",
            "__________________________________________________________________________________________________\n",
            "activation_2 (Activation)       (None, 510, 510, 8)  0           conv2d_18[0][0]                  \n",
            "__________________________________________________________________________________________________\n",
            "max_pooling2d_3 (MaxPooling2D)  (None, 509, 509, 8)  0           activation_2[0][0]               \n",
            "__________________________________________________________________________________________________\n",
            "flatten_1 (Flatten)             (None, 2072648)      0           max_pooling2d_3[0][0]            \n",
            "__________________________________________________________________________________________________\n",
            "dense_1 (Dense)                 (None, 10)           20726490    flatten_1[0][0]                  \n",
            "__________________________________________________________________________________________________\n",
            "activation_3 (Activation)       (None, 10)           0           dense_1[0][0]                    \n",
            "==================================================================================================\n",
            "Total params: 20,741,306\n",
            "Trainable params: 20,741,306\n",
            "Non-trainable params: 0\n",
            "__________________________________________________________________________________________________\n"
          ],
          "name": "stdout"
        }
      ]
    },
    {
      "cell_type": "code",
      "metadata": {
        "id": "6QbHrX3fsAb2",
        "colab_type": "code",
        "colab": {}
      },
      "source": [
        ""
      ],
      "execution_count": 0,
      "outputs": []
    }
  ]
}