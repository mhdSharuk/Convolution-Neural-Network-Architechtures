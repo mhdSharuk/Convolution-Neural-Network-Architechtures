{
  "nbformat": 4,
  "nbformat_minor": 0,
  "metadata": {
    "colab": {
      "name": "LeNet",
      "provenance": [],
      "include_colab_link": true
    },
    "kernelspec": {
      "name": "python3",
      "display_name": "Python 3"
    }
  },
  "cells": [
    {
      "cell_type": "markdown",
      "metadata": {
        "id": "view-in-github",
        "colab_type": "text"
      },
      "source": [
        "<a href=\"https://colab.research.google.com/github/mhdSharuk/Convolution-Neural-Network-Architechtures/blob/master/LeNet.ipynb\" target=\"_parent\"><img src=\"https://colab.research.google.com/assets/colab-badge.svg\" alt=\"Open In Colab\"/></a>"
      ]
    },
    {
      "cell_type": "code",
      "metadata": {
        "id": "qVJsjbOC7Gfr",
        "colab_type": "code",
        "colab": {
          "base_uri": "https://localhost:8080/"
        },
        "outputId": "cb896748-3b08-4347-c442-8af990db4e0c"
      },
      "source": [
        "import numpy as np\n",
        "import tensorflow as tf\n",
        "from tensorflow.keras.models import Model,Input\n",
        "from tensorflow.keras.layers import Conv2D,MaxPooling2D,Dense,Flatten,Activation"
      ],
      "execution_count": 1,
      "outputs": [
        {
          "output_type": "error",
          "ename": "ImportError",
          "evalue": "ignored",
          "traceback": [
            "\u001b[0;31m---------------------------------------------------------------------------\u001b[0m",
            "\u001b[0;31mImportError\u001b[0m                               Traceback (most recent call last)",
            "\u001b[0;32m<ipython-input-1-c2ba803ad1df>\u001b[0m in \u001b[0;36m<module>\u001b[0;34m()\u001b[0m\n\u001b[1;32m      1\u001b[0m \u001b[0;32mimport\u001b[0m \u001b[0mnumpy\u001b[0m \u001b[0;32mas\u001b[0m \u001b[0mnp\u001b[0m\u001b[0;34m\u001b[0m\u001b[0;34m\u001b[0m\u001b[0m\n\u001b[1;32m      2\u001b[0m \u001b[0;32mimport\u001b[0m \u001b[0mtensorflow\u001b[0m \u001b[0;32mas\u001b[0m \u001b[0mtf\u001b[0m\u001b[0;34m\u001b[0m\u001b[0;34m\u001b[0m\u001b[0m\n\u001b[0;32m----> 3\u001b[0;31m \u001b[0;32mfrom\u001b[0m \u001b[0mtensorflow\u001b[0m\u001b[0;34m.\u001b[0m\u001b[0mkeras\u001b[0m\u001b[0;34m.\u001b[0m\u001b[0mmodels\u001b[0m \u001b[0;32mimport\u001b[0m \u001b[0mModel\u001b[0m\u001b[0;34m,\u001b[0m\u001b[0mInput\u001b[0m\u001b[0;34m\u001b[0m\u001b[0;34m\u001b[0m\u001b[0m\n\u001b[0m\u001b[1;32m      4\u001b[0m \u001b[0;32mfrom\u001b[0m \u001b[0mtensorflow\u001b[0m\u001b[0;34m.\u001b[0m\u001b[0mkeras\u001b[0m\u001b[0;34m.\u001b[0m\u001b[0mlayers\u001b[0m \u001b[0;32mimport\u001b[0m \u001b[0mConv2D\u001b[0m\u001b[0;34m,\u001b[0m\u001b[0mMaxPooling2D\u001b[0m\u001b[0;34m,\u001b[0m\u001b[0mDense\u001b[0m\u001b[0;34m\u001b[0m\u001b[0;34m\u001b[0m\u001b[0m\n",
            "\u001b[0;31mImportError\u001b[0m: cannot import name 'Input'",
            "",
            "\u001b[0;31m---------------------------------------------------------------------------\u001b[0;32m\nNOTE: If your import is failing due to a missing package, you can\nmanually install dependencies using either !pip or !apt.\n\nTo view examples of installing some common dependencies, click the\n\"Open Examples\" button below.\n\u001b[0;31m---------------------------------------------------------------------------\u001b[0m\n"
          ]
        }
      ]
    },
    {
      "cell_type": "code",
      "metadata": {
        "id": "YBEfuYVV8HPr",
        "colab_type": "code",
        "colab": {
          "base_uri": "https://localhost:8080/"
        },
        "outputId": "4c0ca127-e612-4a43-a32e-e7d014432fd3"
      },
      "source": [
        "filter"
      ],
      "execution_count": 2,
      "outputs": [
        {
          "output_type": "execute_result",
          "data": {
            "text/plain": [
              "filter"
            ]
          },
          "metadata": {
            "tags": []
          },
          "execution_count": 2
        }
      ]
    },
    {
      "cell_type": "code",
      "metadata": {
        "id": "NpkaUqzO7YkU",
        "colab_type": "code",
        "colab": {}
      },
      "source": [
        "def LeNet(input_shape,num_classes):\n",
        "  \n",
        "  final_activation = 'softmax'\n",
        "  \n",
        "  if num_classes == 1:\n",
        "    final_activation = 'sigmoid'\n",
        "  else:\n",
        "    final_activation = 'softmax'\n",
        "    \n",
        "    \n",
        "  Input = Input(input_shape = input_shape)\n",
        "  \n",
        "  c1 = Conv2D(filters = 6, kernel_size = (5,5), activation = 'relu', padding = 'same')(Input)\n",
        "  m1 = MaxPooling2D(pool_size = (2,2))(c1)\n",
        "  c2 = Conv2D(filters = 16, kernel_size = (5,5), activation = 'relu', padding = 'same')(m1)\n",
        "  m2 = MaxPooling2D(pool_Size = (2,2))(c2)\n",
        "  c3 = Conv2D(filters = 120, kernel_size = (5,5), activation = 'relu', padding = 'same')(m2)\n",
        "  \n",
        "  flatten = Flatten()(c3)\n",
        "  \n",
        "  fc1 = Dense(units = 84)(flatten)\n",
        "  fc1 = Activation('relu')(fc1)\n",
        "  fc2 = Dense(units = num_classes)(fc1)\n",
        "  \n",
        "  output = Activation(final_activation)(fc2)\n",
        "  \n",
        "  model = Model([Input], output)\n",
        "  \n",
        "  return model"
      ],
      "execution_count": 0,
      "outputs": []
    },
    {
      "cell_type": "code",
      "metadata": {
        "id": "06JHT_E9-bgs",
        "colab_type": "code",
        "colab": {}
      },
      "source": [
        "model = LeNet((128,128,3),10)\n",
        "model.summary()"
      ],
      "execution_count": 0,
      "outputs": []
    }
  ]
}