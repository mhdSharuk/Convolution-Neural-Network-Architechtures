{
  "nbformat": 4,
  "nbformat_minor": 0,
  "metadata": {
    "colab": {
      "name": "InceptionNet_V2",
      "provenance": [],
      "collapsed_sections": [],
      "include_colab_link": true
    },
    "kernelspec": {
      "name": "python3",
      "display_name": "Python 3"
    }
  },
  "cells": [
    {
      "cell_type": "markdown",
      "metadata": {
        "id": "view-in-github",
        "colab_type": "text"
      },
      "source": [
        "<a href=\"https://colab.research.google.com/github/mhdSharuk/Convolution-Neural-Network-Architechtures/blob/master/InceptionNet_V2.ipynb\" target=\"_parent\"><img src=\"https://colab.research.google.com/assets/colab-badge.svg\" alt=\"Open In Colab\"/></a>"
      ]
    },
    {
      "cell_type": "markdown",
      "metadata": {
        "id": "revnvD4LzgdE",
        "colab_type": "text"
      },
      "source": [
        "**A block of Inception V2 Architechture**\n",
        "\n",
        "![alt text](https://miro.medium.com/max/766/1*RzvmmEQH_87qKWYBFIG_DA.png)"
      ]
    },
    {
      "cell_type": "markdown",
      "metadata": {
        "id": "Y3f-3JR2ztDD",
        "colab_type": "text"
      },
      "source": [
        "The difference between Inception V1 and V2 is that they replaced the 5x5 convolution with 2 3x3 convolution networks.This is called Factorized Convolution.Using smart factorization methods, convolutions can be made more efficient in terms of computational complexity.The number of parameters used in 5x5 convolution is 25,But by using 2 3x3 convolution we only have 18 parameters (3x3 + 3x3 = 18).So 5x5 convolution is 2.78 times more expensive than a 3x3 convolution. So stacking two 3x3 convolutions infact leads to a boost in performance. "
      ]
    },
    {
      "cell_type": "code",
      "metadata": {
        "id": "g_1wfspCzPBK",
        "colab_type": "code",
        "colab": {}
      },
      "source": [
        "#Importing the required modules\n",
        "\n",
        "import tensorflow as tf \n",
        "from tensorflow.keras import Model,Input\n",
        "from tensorflow.keras.layers import Conv2D,MaxPooling2D,Flatten\n",
        "from tensorflow.keras.layers import Dense,concatenate,Activation"
      ],
      "execution_count": 0,
      "outputs": []
    },
    {
      "cell_type": "markdown",
      "metadata": {
        "id": "an69IhKI01dH",
        "colab_type": "text"
      },
      "source": [
        "**The code for inception V2 architechture**"
      ]
    },
    {
      "cell_type": "code",
      "metadata": {
        "id": "kGWPlWLU00xb",
        "colab_type": "code",
        "colab": {}
      },
      "source": [
        "def inception_network_v2(input_shape, num_classes):\n",
        "\t\"\"\"Arguments:\n",
        "\t\tinput_shape : The number of rows,number of columns,number of color channels in the image\n",
        "\t\t\t\t\t  Example : (512,512,3) => This represents 512x512 pixel image with 3 color channels\n",
        "\t\tnum_classes : The number of classes we want to predict\n",
        "\n",
        "\t   Output:\n",
        "\t   \tReturn the Inception model with the given constraints\n",
        "\t\"\"\"\n",
        "\n",
        "\tinput_ = Input(input_shape)\n",
        "\n",
        "\t#=====================================================================================================\n",
        "  #Strating of First BLock\n",
        "\ttower1_1 = Conv2D(filters = 64, kernel_size = (1,1), padding = 'same', activation = 'relu')(input_)\n",
        "\n",
        "\ttower2_1 = Conv2D(filters = 64, kernel_size = (1,1), padding = 'same', activation = 'relu')(input_)\n",
        "\ttower2_2 = Conv2D(filters = 64, kernel_size = (3,3), padding = 'same', activation = 'relu')(tower2_1)\n",
        "\n",
        "\ttower3_1 = Conv2D(filters = 64, kernel_size = (1,1), padding = 'same', activation = 'relu')(input_)\n",
        "\ttower3_2 = Conv2D(filters = 64, kernel_size = (3,3), padding = 'same', activation = 'relu')(tower3_1)\n",
        "\ttower3_3 = Conv2D(filters = 64, kernel_size = (3,3), padding = 'same', activation = 'relu')(tower3_2)\n",
        "\n",
        "\ttower4_1 = MaxPooling2D(pool_size = (3,3), strides = (1,1), padding = 'same')(input_)\n",
        "\ttower4_2 = Conv2D(filters = 64, kernel_size = (1,1), padding = 'same', activation = 'relu')(tower4_1)\n",
        "\n",
        "\tconcat_1 = concatenate([tower1_1,tower2_1,tower3_1,tower4_1], axis = 3)\n",
        "\t#First BLock Finished\n",
        "\n",
        "\t#=========================================================================================================\n",
        "\t#Same for Every end of the block with flatten function refering to the last concatenation layer\n",
        "\tend_block = Conv2D(filters = 8, kernel_size = (3,3))(concat_1)\n",
        "\tend_block = Activation('relu')(end_block)\n",
        "\tend_block = MaxPooling2D(pool_size = (2,2), strides = (1,1))(end_block)\n",
        "\tend_block = Flatten()(end_block)\n",
        "\tend_block = Dense(num_classes)(end_block)\n",
        "\t\n",
        "\toutput = Activation('softmax')(end_block)\n",
        "\n",
        "\tmodel = Model([input_], output)\n",
        "\n",
        "\treturn model"
      ],
      "execution_count": 0,
      "outputs": []
    },
    {
      "cell_type": "markdown",
      "metadata": {
        "id": "cTJZBR4r2BT2",
        "colab_type": "text"
      },
      "source": [
        "**Summary of the model**"
      ]
    },
    {
      "cell_type": "code",
      "metadata": {
        "id": "dOf9QNrc1ODU",
        "colab_type": "code",
        "colab": {
          "base_uri": "https://localhost:8080/",
          "height": 602
        },
        "outputId": "109ae2b7-5277-4c12-f854-a795552ef501"
      },
      "source": [
        "model = inception_network_v2((128,128,3),5)\n",
        "model.summary()"
      ],
      "execution_count": 11,
      "outputs": [
        {
          "output_type": "stream",
          "text": [
            "Model: \"model\"\n",
            "__________________________________________________________________________________________________\n",
            "Layer (type)                    Output Shape         Param #     Connected to                     \n",
            "==================================================================================================\n",
            "input_4 (InputLayer)            [(None, 128, 128, 3) 0                                            \n",
            "__________________________________________________________________________________________________\n",
            "conv2d_20 (Conv2D)              (None, 128, 128, 64) 256         input_4[0][0]                    \n",
            "__________________________________________________________________________________________________\n",
            "conv2d_21 (Conv2D)              (None, 128, 128, 64) 256         input_4[0][0]                    \n",
            "__________________________________________________________________________________________________\n",
            "conv2d_23 (Conv2D)              (None, 128, 128, 64) 256         input_4[0][0]                    \n",
            "__________________________________________________________________________________________________\n",
            "max_pooling2d_2 (MaxPooling2D)  (None, 128, 128, 3)  0           input_4[0][0]                    \n",
            "__________________________________________________________________________________________________\n",
            "concatenate (Concatenate)       (None, 128, 128, 195 0           conv2d_20[0][0]                  \n",
            "                                                                 conv2d_21[0][0]                  \n",
            "                                                                 conv2d_23[0][0]                  \n",
            "                                                                 max_pooling2d_2[0][0]            \n",
            "__________________________________________________________________________________________________\n",
            "conv2d_27 (Conv2D)              (None, 126, 126, 8)  14048       concatenate[0][0]                \n",
            "__________________________________________________________________________________________________\n",
            "activation (Activation)         (None, 126, 126, 8)  0           conv2d_27[0][0]                  \n",
            "__________________________________________________________________________________________________\n",
            "max_pooling2d_3 (MaxPooling2D)  (None, 125, 125, 8)  0           activation[0][0]                 \n",
            "__________________________________________________________________________________________________\n",
            "flatten (Flatten)               (None, 125000)       0           max_pooling2d_3[0][0]            \n",
            "__________________________________________________________________________________________________\n",
            "dense (Dense)                   (None, 5)            625005      flatten[0][0]                    \n",
            "__________________________________________________________________________________________________\n",
            "activation_1 (Activation)       (None, 5)            0           dense[0][0]                      \n",
            "==================================================================================================\n",
            "Total params: 639,821\n",
            "Trainable params: 639,821\n",
            "Non-trainable params: 0\n",
            "__________________________________________________________________________________________________\n"
          ],
          "name": "stdout"
        }
      ]
    },
    {
      "cell_type": "code",
      "metadata": {
        "id": "vELjc2l_1WtQ",
        "colab_type": "code",
        "colab": {}
      },
      "source": [
        ""
      ],
      "execution_count": 0,
      "outputs": []
    }
  ]
}