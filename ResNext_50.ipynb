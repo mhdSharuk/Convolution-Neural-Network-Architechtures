{
  "nbformat": 4,
  "nbformat_minor": 0,
  "metadata": {
    "colab": {
      "name": "ResNext-50",
      "provenance": [],
      "include_colab_link": true
    },
    "kernelspec": {
      "name": "python3",
      "display_name": "Python 3"
    }
  },
  "cells": [
    {
      "cell_type": "markdown",
      "metadata": {
        "id": "view-in-github",
        "colab_type": "text"
      },
      "source": [
        "<a href=\"https://colab.research.google.com/github/mhdSharuk/Convolution-Neural-Network-Architechtures/blob/master/ResNext_50.ipynb\" target=\"_parent\"><img src=\"https://colab.research.google.com/assets/colab-badge.svg\" alt=\"Open In Colab\"/></a>"
      ]
    },
    {
      "cell_type": "markdown",
      "metadata": {
        "id": "w1wOq77HJXIQ",
        "colab_type": "text"
      },
      "source": [
        "**Architechture of ResNext-50**\n",
        "![alt text](https://miro.medium.com/max/2607/1*HelCJiQZEuwuKakRwDdGPw.png)"
      ]
    },
    {
      "cell_type": "code",
      "metadata": {
        "id": "AHx07nNJJR4A",
        "colab_type": "code",
        "colab": {}
      },
      "source": [
        "import tensorflow as tf \n",
        "from tensorflow.keras import Model,Input\n",
        "from tensorflow.keras.layers import Conv2D,MaxPooling2D,Flatten\n",
        "from tensorflow.keras.layers import Dense,concatenate,Activation,AveragePooling2D"
      ],
      "execution_count": 0,
      "outputs": []
    },
    {
      "cell_type": "code",
      "metadata": {
        "id": "gZ44KgD4J9x6",
        "colab_type": "code",
        "colab": {}
      },
      "source": [
        "def ResNeXt50(input_shape,num_classes):\n",
        "  input_ = Input(shape = input_shape)\n",
        "  c1 = Conv2D(filters = 64, kernel_size = (7,7), strides = (1,1), padding = 'same',activation = 'relu')(input_)\n",
        "  b1 = BatchNormalization()(c1)\n",
        "  m1 = MaxPooling2d(3,3)(b1)\n",
        "  \n",
        "  #ConvBlock\n",
        "  c2 = Conv2D(filters = 64, kernel_size = (1,1), strides = (1,1), padding = 'same',activation = 'relu')(m1)\n",
        "  b2 = BatchNormalization()(c2)\n",
        "  c3 = Conv2D(filters = 64, kernel_size = (3,3), strides = (1,1), padding = 'same', activation = 'relu')(b2)\n",
        "  b3 = BatchNormalization()(c3)\n",
        "  c4 = Conv2D(filters = 64, kernel_size = (1,1), strides = (1,1), padding = 'same', activation = 'relu')(b3)\n",
        "  \n",
        "  c5 = Conv2D(filters = 64, kernel_size = (1,1), strides = (1,1), padding = 'same',activation = 'relu')(m1)\n",
        "  b4 = BatchNormalization()(c5)\n",
        "  c6 = Conv2D(filters = 64, kernel_size = (3,3), strides = (1,1), padding = 'same', activation = 'relu')(b4)\n",
        "  b5 = BatchNormalization()(c6)\n",
        "  c7 = Conv2D(filters = 64, kernel_size = (1,1), strides = (1,1), padding = 'same', activation = 'relu')(b5)\n",
        "  \n",
        "  "
      ],
      "execution_count": 0,
      "outputs": []
    }
  ]
}